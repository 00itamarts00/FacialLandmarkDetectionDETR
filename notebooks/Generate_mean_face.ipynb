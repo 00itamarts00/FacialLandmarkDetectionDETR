{
 "cells": [
  {
   "cell_type": "code",
   "execution_count": 46,
   "metadata": {},
   "outputs": [],
   "source": [
    "HOME = '/home/itamar/thesis/FacialLandmarkDetectionThesis'\n",
    "\n",
    "import os\n",
    "import clearml\n",
    "import torch\n",
    "# from top_level import TopLevel\n",
    "import main.globals as g\n",
    "os.chdir(HOME)\n",
    "from main.top_level import TopLevel\n",
    "from main.components.trainer import LDMTrain\n",
    "from utils.file_handler import FileHandler\n",
    "timestamp = FileHandler.get_datetime()\n",
    "g.TIMESTAMP = timestamp\n",
    "from main.components.CLMDataset import CLMDataset, get_def_transform, get_data_list\n",
    "from torch.utils import data\n",
    "from tqdm import tqdm\n",
    "import numpy as np\n",
    "import matplotlib.pyplot as plt"
   ]
  },
  {
   "cell_type": "code",
   "execution_count": 8,
   "metadata": {},
   "outputs": [
    {
     "name": "stdout",
     "output_type": "stream",
     "text": [
      "Number of train images : 7862\n",
      "Number of valid images : 1965\n",
      "Loading DETR Model\n",
      "2021-08-01 19:40:10,099 - clearml.model - INFO - Selected model id: b398ead37b2e4ba18a80dcc60fe2b4da\n"
     ]
    },
    {
     "name": "stderr",
     "output_type": "stream",
     "text": [
      "100%|██████████| 202/202 [00:00<00:00, 667.98it/s]\n",
      "100%|██████████| 202/202 [00:00<00:00, 673.91it/s]\n",
      "100%|██████████| 202/202 [00:00<00:00, 672.72it/s]\n",
      "100%|██████████| 202/202 [00:00<00:00, 671.85it/s]\n"
     ]
    }
   ],
   "source": [
    "tl = TopLevel()\n",
    "tl.init(task_id=None)\n",
    "tl.setup_workspace()\n",
    "lmd_train = LDMTrain(params=tl.params, last_epoch=tl.task.get_last_iteration(), logger=tl.logger)\n"
   ]
  },
  {
   "cell_type": "code",
   "execution_count": 19,
   "metadata": {},
   "outputs": [],
   "source": [
    "df = get_data_list(worksets_path=lmd_train.workset_path, datasets=lmd_train.tr.datasets.to_use, nickname='mean_face', numpts=68)\n",
    "dfset = CLMDataset(lmd_train.pr, lmd_train.paths, df)\n",
    "df_loader = data.DataLoader(dfset, batch_size=32, shuffle=False)\n"
   ]
  },
  {
   "cell_type": "code",
   "execution_count": 33,
   "metadata": {},
   "outputs": [
    {
     "name": "stderr",
     "output_type": "stream",
     "text": [
      "100%|██████████| 246/246 [00:21<00:00, 11.45it/s]\n"
     ]
    }
   ],
   "source": [
    "mean_pts_ls = []\n",
    "for batch_idx, item in enumerate(tqdm(train_loader)):\n",
    "    input_, tpts, scale = item['img'], item['tpts'], item['sfactor']\n",
    "    mean_pts_ls.append(np.array(tpts))"
   ]
  },
  {
   "cell_type": "code",
   "execution_count": 43,
   "metadata": {},
   "outputs": [],
   "source": [
    "mean_pts = np.vstack(np.array(mean_pts_ls))"
   ]
  },
  {
   "cell_type": "code",
   "execution_count": 44,
   "metadata": {},
   "outputs": [],
   "source": [
    "pts = mean_pts.mean(0)"
   ]
  },
  {
   "cell_type": "code",
   "execution_count": 51,
   "metadata": {},
   "outputs": [
    {
     "data": {
      "text/plain": [
       "<matplotlib.collections.PathCollection at 0x7f2c660ce690>"
      ]
     },
     "execution_count": 51,
     "metadata": {},
     "output_type": "execute_result"
    },
    {
     "data": {
      "image/png": "[encoded data removed]",
      "text/plain": [
       "<Figure size 432x288 with 1 Axes>"
      ]
     },
     "metadata": {
      "needs_background": "light"
     },
     "output_type": "display_data"
    }
   ],
   "source": [
    "plt.scatter(pts.T[0], pts.T[1])"
   ]
  },
  {
   "cell_type": "code",
   "execution_count": 54,
   "metadata": {},
   "outputs": [
    {
     "name": "stdout",
     "output_type": "stream",
     "text": [
      "2021-08-02 00:24:36,076 - clearml.Task - ERROR - Action failed <400/101: tasks.get_by_id/v1.0 (Invalid task id: id=4344c5ff0e5f418295f2f6912d91b897, company=2c6b66b6a9814e81a518c8db36d06569)> (task=4344c5ff0e5f418295f2f6912d91b897)\n",
      "2021-08-02 00:24:36,077 - clearml.Task - ERROR - Failed reloading task 4344c5ff0e5f418295f2f6912d91b897\n",
      "2021-08-02 00:24:36,078 - clearml.Task - WARNING - ### TASK STOPPED - USER ABORTED - STATUS CHANGED ###\n"
     ]
    }
   ],
   "source": [
    "np.save(os.path.join(HOME, 'mean_face'), pts)"
   ]
  },
  {
   "cell_type": "code",
   "execution_count": null,
   "metadata": {},
   "outputs": [],
   "source": []
  },
  {
   "cell_type": "code",
   "execution_count": null,
   "metadata": {},
   "outputs": [],
   "source": []
  }
 ],
 "metadata": {
  "kernelspec": {
   "display_name": "Python 3",
   "language": "python",
   "name": "python3"
  },
  "language_info": {
   "codemirror_mode": {
    "name": "ipython",
    "version": 3
   },
   "file_extension": ".py",
   "mimetype": "text/x-python",
   "name": "python",
   "nbconvert_exporter": "python",
   "pygments_lexer": "ipython3",
   "version": "3.7.4"
  }
 },
 "nbformat": 4,
 "nbformat_minor": 4
}
